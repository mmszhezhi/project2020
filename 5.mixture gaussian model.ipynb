{
 "cells": [
  {
   "cell_type": "code",
   "execution_count": 2,
   "metadata": {},
   "outputs": [],
   "source": [
    "import numpy as np\n",
    "import matplotlib.pyplot as plt\n",
    "import seaborn as sns\n",
    "import pandas as pd \n"
   ]
  },
  {
   "cell_type": "code",
   "execution_count": 17,
   "metadata": {},
   "outputs": [],
   "source": [
    "d1 = np.random.normal(5,3,7000)\n",
    "d2 = np.random.normal(25,5,7000)"
   ]
  },
  {
   "cell_type": "code",
   "execution_count": 18,
   "metadata": {},
   "outputs": [],
   "source": [
    "d3 = np.hstack((d1,d2))"
   ]
  },
  {
   "cell_type": "code",
   "execution_count": 19,
   "metadata": {},
   "outputs": [
    {
     "data": {
      "text/plain": [
       "(14000,)"
      ]
     },
     "execution_count": 19,
     "metadata": {},
     "output_type": "execute_result"
    }
   ],
   "source": [
    "d3.shape"
   ]
  },
  {
   "cell_type": "code",
   "execution_count": 26,
   "metadata": {},
   "outputs": [
    {
     "data": {
      "text/plain": [
       "(array([  3.,   6.,  13.,  30.,  83., 125., 270., 451., 590., 774., 844.,\n",
       "        942., 935., 657., 530., 353., 223., 120.,  63.,  53.,  58.,  77.,\n",
       "        136., 150., 184., 296., 352., 396., 474., 517., 555., 497., 580.,\n",
       "        490., 469., 431., 321., 281., 210., 154., 115.,  86.,  38.,  28.,\n",
       "         16.,  12.,   4.,   4.,   3.,   1.]),\n",
       " array([-6.20727324, -5.21447712, -4.221681  , -3.22888488, -2.23608876,\n",
       "        -1.24329264, -0.25049652,  0.7422996 ,  1.73509572,  2.72789184,\n",
       "         3.72068797,  4.71348409,  5.70628021,  6.69907633,  7.69187245,\n",
       "         8.68466857,  9.67746469, 10.67026081, 11.66305693, 12.65585305,\n",
       "        13.64864917, 14.6414453 , 15.63424142, 16.62703754, 17.61983366,\n",
       "        18.61262978, 19.6054259 , 20.59822202, 21.59101814, 22.58381426,\n",
       "        23.57661038, 24.5694065 , 25.56220263, 26.55499875, 27.54779487,\n",
       "        28.54059099, 29.53338711, 30.52618323, 31.51897935, 32.51177547,\n",
       "        33.50457159, 34.49736771, 35.49016384, 36.48295996, 37.47575608,\n",
       "        38.4685522 , 39.46134832, 40.45414444, 41.44694056, 42.43973668,\n",
       "        43.4325328 ]),\n",
       " <a list of 50 Patch objects>)"
      ]
     },
     "execution_count": 26,
     "metadata": {},
     "output_type": "execute_result"
    },
    {
     "data": {
      "image/png": "[encoded data removed]",
      "text/plain": [
       "<Figure size 432x288 with 1 Axes>"
      ]
     },
     "metadata": {
      "needs_background": "light"
     },
     "output_type": "display_data"
    }
   ],
   "source": [
    "plt.hist(d3,density=False,bins=50)"
   ]
  },
  {
   "cell_type": "code",
   "execution_count": 27,
   "metadata": {},
   "outputs": [],
   "source": [
    "from sklearn.mixture import GaussianMixture"
   ]
  },
  {
   "cell_type": "code",
   "execution_count": 28,
   "metadata": {},
   "outputs": [],
   "source": [
    "model = GaussianMixture(n_components=2)"
   ]
  },
  {
   "cell_type": "markdown",
   "metadata": {},
   "source": [
    "model.fit(d3.reshape([-1,1]))"
   ]
  },
  {
   "cell_type": "code",
   "execution_count": 29,
   "metadata": {},
   "outputs": [
    {
     "data": {
      "text/plain": [
       "GaussianMixture(covariance_type='full', init_params='kmeans', max_iter=100,\n",
       "                means_init=None, n_components=2, n_init=1, precisions_init=None,\n",
       "                random_state=None, reg_covar=1e-06, tol=0.001, verbose=0,\n",
       "                verbose_interval=10, warm_start=False, weights_init=None)"
      ]
     },
     "execution_count": 29,
     "metadata": {},
     "output_type": "execute_result"
    }
   ],
   "source": [
    "model.fit(d3.reshape([-1,1]))"
   ]
  },
  {
   "cell_type": "code",
   "execution_count": 30,
   "metadata": {},
   "outputs": [
    {
     "data": {
      "text/plain": [
       "array([[[ 8.9138003 ]],\n",
       "\n",
       "       [[24.43128832]]])"
      ]
     },
     "execution_count": 30,
     "metadata": {},
     "output_type": "execute_result"
    }
   ],
   "source": [
    "model.covariances_"
   ]
  },
  {
   "cell_type": "code",
   "execution_count": 31,
   "metadata": {},
   "outputs": [
    {
     "data": {
      "text/plain": [
       "array([[ 5.00162568],\n",
       "       [25.05091247]])"
      ]
     },
     "execution_count": 31,
     "metadata": {},
     "output_type": "execute_result"
    }
   ],
   "source": [
    "model.means_"
   ]
  },
  {
   "cell_type": "code",
   "execution_count": 32,
   "metadata": {},
   "outputs": [
    {
     "data": {
      "text/plain": [
       "array([1], dtype=int64)"
      ]
     },
     "execution_count": 32,
     "metadata": {},
     "output_type": "execute_result"
    }
   ],
   "source": [
    "model.predict([[25]])"
   ]
  },
  {
   "cell_type": "code",
   "execution_count": 38,
   "metadata": {},
   "outputs": [
    {
     "data": {
      "text/plain": [
       "array([[0.97686107, 0.02313893]])"
      ]
     },
     "execution_count": 38,
     "metadata": {},
     "output_type": "execute_result"
    }
   ],
   "source": [
    "model.predict_proba([[10]])"
   ]
  },
  {
   "cell_type": "code",
   "execution_count": 175,
   "metadata": {},
   "outputs": [],
   "source": [
    "from sklearn.datasets import make_blobs\n",
    "import matplotlib.pyplot as plt\n",
    "from mlxtend.plotting import plot_decision_regions\n",
    "from sklearn.linear_model import LinearRegression,LogisticRegression\n",
    "import matplotlib as mpl\n",
    "\n",
    "import seaborn as sns\n",
    "data  =make_blobs(n_samples=1000,centers=[[0,0],[10,10],[10,-1]],n_features=2)\n",
    "noise = make_blobs(n_samples=1000,centers=[[0,0]],n_features=2)\n",
    "# data = data + noise"
   ]
  },
  {
   "cell_type": "code",
   "execution_count": 148,
   "metadata": {},
   "outputs": [
    {
     "data": {
      "text/plain": [
       "(1000, 2)"
      ]
     },
     "execution_count": 148,
     "metadata": {},
     "output_type": "execute_result"
    }
   ],
   "source": [
    "data[0].shape"
   ]
  },
  {
   "cell_type": "code",
   "execution_count": 176,
   "metadata": {},
   "outputs": [
    {
     "data": {
      "text/plain": [
       "array([1, 1, 1, 0, 0, 2, 2, 2, 0, 2, 0, 2, 0, 2, 0, 0, 0, 0, 0, 1, 0, 2,\n",
       "       2, 1, 2, 2, 0, 1, 1, 2, 1, 2, 0, 2, 1, 2, 2, 1, 2, 0, 2, 0, 0, 1,\n",
       "       0, 1, 1, 1, 2, 0, 0, 0, 2, 0, 1, 0, 2, 2, 2, 0, 0, 2, 0, 1, 0, 0,\n",
       "       1, 1, 1, 1, 0, 1, 1, 2, 0, 2, 2, 0, 0, 1, 0, 0, 1, 0, 0, 1, 1, 0,\n",
       "       2, 1, 0, 2, 2, 0, 2, 2, 0, 1, 0, 2, 0, 2, 2, 0, 1, 1, 1, 0, 0, 1,\n",
       "       2, 0, 1, 0, 1, 0, 0, 1, 1, 1, 2, 0, 0, 0, 0, 2, 0, 1, 1, 1, 0, 0,\n",
       "       0, 1, 1, 1, 0, 1, 2, 0, 1, 1, 0, 0, 2, 2, 1, 0, 0, 1, 0, 0, 2, 1,\n",
       "       1, 0, 1, 2, 0, 0, 1, 0, 0, 2, 0, 1, 1, 0, 0, 1, 2, 2, 0, 1, 2, 0,\n",
       "       0, 1, 1, 2, 1, 2, 1, 0, 2, 0, 0, 1, 1, 1, 0, 2, 0, 1, 0, 0, 1, 0,\n",
       "       0, 2, 2, 1, 0, 1, 2, 1, 2, 0, 2, 0, 0, 1, 1, 2, 2, 2, 2, 0, 1, 2,\n",
       "       2, 0, 2, 2, 1, 2, 1, 1, 0, 2, 0, 2, 2, 1, 2, 1, 1, 0, 2, 0, 2, 0,\n",
       "       2, 2, 0, 1, 1, 2, 1, 1, 0, 0, 1, 2, 1, 1, 2, 0, 2, 2, 0, 0, 2, 2,\n",
       "       2, 2, 2, 0, 2, 0, 1, 0, 1, 1, 2, 2, 2, 2, 2, 0, 2, 1, 0, 0, 2, 1,\n",
       "       0, 1, 1, 1, 0, 1, 0, 1, 1, 0, 1, 0, 1, 1, 2, 1, 2, 0, 0, 2, 1, 1,\n",
       "       2, 2, 0, 1, 0, 1, 0, 0, 0, 1, 1, 2, 1, 1, 2, 0, 1, 1, 0, 0, 1, 0,\n",
       "       1, 0, 0, 0, 0, 2, 2, 0, 1, 1, 1, 0, 0, 0, 0, 2, 1, 0, 1, 0, 0, 2,\n",
       "       1, 0, 1, 2, 0, 1, 1, 0, 0, 2, 0, 2, 2, 2, 2, 2, 2, 2, 2, 1, 2, 0,\n",
       "       0, 2, 2, 1, 2, 1, 0, 1, 0, 2, 1, 2, 1, 1, 2, 2, 2, 1, 0, 2, 0, 0,\n",
       "       1, 2, 2, 1, 1, 0, 0, 0, 2, 1, 0, 0, 1, 0, 0, 1, 1, 2, 2, 2, 2, 1,\n",
       "       2, 2, 0, 1, 1, 2, 1, 0, 0, 0, 1, 1, 1, 1, 2, 1, 1, 1, 1, 1, 0, 2,\n",
       "       1, 2, 2, 2, 1, 0, 2, 0, 0, 0, 2, 1, 2, 1, 2, 0, 2, 2, 0, 2, 1, 1,\n",
       "       1, 0, 2, 1, 0, 0, 0, 0, 1, 2, 0, 1, 0, 0, 0, 0, 0, 1, 2, 0, 1, 0,\n",
       "       0, 2, 2, 1, 2, 2, 1, 1, 0, 0, 2, 2, 0, 0, 2, 2, 0, 2, 0, 2, 0, 2,\n",
       "       1, 2, 2, 0, 0, 0, 2, 0, 0, 0, 0, 1, 0, 2, 1, 1, 1, 0, 2, 0, 2, 1,\n",
       "       1, 0, 1, 2, 2, 2, 0, 0, 2, 2, 2, 2, 2, 2, 0, 0, 2, 0, 0, 0, 2, 2,\n",
       "       0, 1, 1, 1, 1, 2, 2, 2, 1, 2, 0, 2, 2, 2, 0, 1, 2, 2, 2, 0, 0, 0,\n",
       "       0, 0, 0, 0, 2, 0, 1, 2, 0, 0, 0, 1, 2, 1, 2, 0, 1, 2, 1, 1, 2, 1,\n",
       "       1, 0, 2, 0, 1, 2, 1, 0, 2, 1, 1, 2, 1, 0, 1, 2, 2, 2, 2, 1, 0, 2,\n",
       "       2, 1, 2, 2, 0, 2, 2, 1, 0, 0, 1, 1, 0, 1, 0, 0, 2, 2, 1, 0, 1, 0,\n",
       "       0, 2, 0, 2, 1, 2, 0, 2, 0, 0, 2, 0, 2, 1, 2, 1, 0, 1, 1, 1, 1, 1,\n",
       "       0, 2, 2, 1, 2, 1, 1, 2, 0, 2, 0, 0, 1, 1, 2, 1, 2, 0, 0, 1, 1, 0,\n",
       "       0, 0, 0, 1, 2, 1, 2, 0, 2, 1, 1, 0, 1, 2, 0, 1, 1, 0, 0, 2, 1, 2,\n",
       "       0, 1, 0, 2, 0, 2, 2, 1, 2, 0, 2, 2, 2, 1, 1, 1, 2, 0, 2, 1, 0, 1,\n",
       "       1, 2, 1, 1, 2, 2, 1, 2, 1, 0, 0, 1, 0, 1, 1, 1, 2, 1, 1, 2, 0, 2,\n",
       "       0, 0, 1, 1, 0, 1, 1, 2, 0, 1, 1, 1, 2, 2, 1, 2, 2, 2, 2, 2, 2, 1,\n",
       "       2, 1, 0, 2, 1, 0, 0, 0, 0, 2, 2, 1, 2, 1, 1, 2, 1, 1, 2, 0, 2, 1,\n",
       "       2, 2, 2, 0, 2, 1, 2, 0, 1, 1, 2, 2, 0, 2, 0, 1, 2, 0, 1, 1, 1, 0,\n",
       "       2, 1, 1, 0, 1, 1, 2, 1, 2, 2, 0, 1, 1, 2, 0, 0, 1, 1, 2, 0, 2, 1,\n",
       "       2, 1, 2, 2, 2, 2, 1, 1, 0, 1, 1, 2, 1, 0, 2, 1, 1, 2, 1, 2, 1, 0,\n",
       "       2, 0, 1, 0, 0, 0, 0, 2, 2, 0, 1, 0, 2, 1, 2, 1, 1, 2, 0, 1, 1, 2,\n",
       "       2, 0, 2, 1, 1, 2, 1, 2, 1, 0, 0, 0, 0, 1, 1, 2, 2, 1, 0, 2, 1, 0,\n",
       "       1, 2, 1, 0, 2, 1, 1, 2, 2, 2, 2, 2, 1, 1, 0, 1, 0, 0, 2, 0, 1, 2,\n",
       "       2, 2, 2, 0, 0, 2, 1, 2, 0, 1, 0, 1, 1, 2, 0, 0, 1, 1, 2, 1, 2, 0,\n",
       "       1, 0, 1, 1, 2, 1, 0, 0, 1, 1, 0, 2, 1, 1, 0, 0, 1, 1, 0, 0, 2, 2,\n",
       "       2, 1, 0, 0, 0, 1, 1, 1, 2, 0, 0, 0, 2, 2, 2, 2, 1, 2, 2, 0, 2, 0,\n",
       "       0, 0, 0, 1, 2, 2, 2, 1, 1, 2])"
      ]
     },
     "execution_count": 176,
     "metadata": {},
     "output_type": "execute_result"
    }
   ],
   "source": [
    "data[1]"
   ]
  },
  {
   "cell_type": "code",
   "execution_count": 149,
   "metadata": {},
   "outputs": [
    {
     "data": {
      "text/plain": [
       "<matplotlib.collections.PathCollection at 0x2850abe90c8>"
      ]
     },
     "execution_count": 149,
     "metadata": {},
     "output_type": "execute_result"
    },
    {
     "data": {
      "image/png": "[encoded data removed]",
      "text/plain": [
       "<Figure size 432x288 with 1 Axes>"
      ]
     },
     "metadata": {},
     "output_type": "display_data"
    }
   ],
   "source": [
    "plt.scatter(data[0][:,0],data[0][:,1])"
   ]
  },
  {
   "cell_type": "code",
   "execution_count": 177,
   "metadata": {},
   "outputs": [],
   "source": [
    "m2 = GaussianMixture(n_components=3)"
   ]
  },
  {
   "cell_type": "code",
   "execution_count": 178,
   "metadata": {},
   "outputs": [
    {
     "data": {
      "text/plain": [
       "GaussianMixture(covariance_type='full', init_params='kmeans', max_iter=100,\n",
       "                means_init=None, n_components=3, n_init=1, precisions_init=None,\n",
       "                random_state=None, reg_covar=1e-06, tol=0.001, verbose=0,\n",
       "                verbose_interval=10, warm_start=False, weights_init=None)"
      ]
     },
     "execution_count": 178,
     "metadata": {},
     "output_type": "execute_result"
    }
   ],
   "source": [
    "m2.fit(data[0])"
   ]
  },
  {
   "cell_type": "code",
   "execution_count": 180,
   "metadata": {},
   "outputs": [
    {
     "data": {
      "text/plain": [
       "array([[3.87323969e-29, 9.60918527e-01, 3.90814726e-02]])"
      ]
     },
     "execution_count": 180,
     "metadata": {},
     "output_type": "execute_result"
    }
   ],
   "source": [
    "m2.predict_proba([[0,10]])"
   ]
  },
  {
   "cell_type": "code",
   "execution_count": null,
   "metadata": {},
   "outputs": [],
   "source": []
  },
  {
   "cell_type": "code",
   "execution_count": null,
   "metadata": {},
   "outputs": [],
   "source": [
    "m"
   ]
  },
  {
   "cell_type": "code",
   "execution_count": 166,
   "metadata": {},
   "outputs": [],
   "source": [
    "def get_z(X,Y):\n",
    "    print(X.shape)\n",
    "    result = np.ones(shape=X.shape)\n",
    "    print(result.shape)\n",
    "    for i1 in range(X.shape[0]):\n",
    "        for i2 in range(X.shape[1]):\n",
    "            result[i1,i2] = m2.predict_proba([[X[i1,i2],Y[i1,i2]]])[0][1]\n",
    "#             print(result[i1,i2],\"?\")\n",
    "            # result[i1,i2] = model.predict([[X[i1,i2],Y[i1,i2]]])[0]\n",
    "    return result"
   ]
  },
  {
   "cell_type": "code",
   "execution_count": 167,
   "metadata": {},
   "outputs": [
    {
     "name": "stdout",
     "output_type": "stream",
     "text": [
      "(160, 1600)\n",
      "(160, 1600)\n"
     ]
    }
   ],
   "source": [
    "\n",
    "x = np.arange(-3,13,0.1)\n",
    "y = np.arange(13,-3,-0.1)\n",
    "X,Y = np.meshgrid(x,y)\n",
    "z = get_z(X,Y)\n",
    "N = np.arange(-0.2, 1.5, 0.1)"
   ]
  },
  {
   "cell_type": "code",
   "execution_count": 168,
   "metadata": {},
   "outputs": [
    {
     "data": {
      "text/plain": [
       "array([[-3.  , -2.99, -2.98, ..., 12.97, 12.98, 12.99],\n",
       "       [-3.  , -2.99, -2.98, ..., 12.97, 12.98, 12.99],\n",
       "       [-3.  , -2.99, -2.98, ..., 12.97, 12.98, 12.99],\n",
       "       ...,\n",
       "       [-3.  , -2.99, -2.98, ..., 12.97, 12.98, 12.99],\n",
       "       [-3.  , -2.99, -2.98, ..., 12.97, 12.98, 12.99],\n",
       "       [-3.  , -2.99, -2.98, ..., 12.97, 12.98, 12.99]])"
      ]
     },
     "execution_count": 168,
     "metadata": {},
     "output_type": "execute_result"
    }
   ],
   "source": [
    "X"
   ]
  },
  {
   "cell_type": "code",
   "execution_count": 169,
   "metadata": {},
   "outputs": [
    {
     "data": {
      "text/plain": [
       "array([[1.00000000e+00, 1.49398142e-40, 1.74242646e-18]])"
      ]
     },
     "execution_count": 169,
     "metadata": {},
     "output_type": "execute_result"
    }
   ],
   "source": [
    "m2.predict_proba([[1,-1]])"
   ]
  },
  {
   "cell_type": "code",
   "execution_count": 170,
   "metadata": {},
   "outputs": [
    {
     "data": {
      "text/plain": [
       "array([[1.00000000e+00, 9.31047017e-41, 2.52930632e-23]])"
      ]
     },
     "execution_count": 170,
     "metadata": {},
     "output_type": "execute_result"
    }
   ],
   "source": [
    "m2.predict_proba([[0,0]])"
   ]
  },
  {
   "cell_type": "code",
   "execution_count": 171,
   "metadata": {},
   "outputs": [
    {
     "data": {
      "text/plain": [
       "array([0.334, 0.333, 0.333])"
      ]
     },
     "execution_count": 171,
     "metadata": {},
     "output_type": "execute_result"
    }
   ],
   "source": [
    "m2.weights_"
   ]
  },
  {
   "cell_type": "code",
   "execution_count": 172,
   "metadata": {},
   "outputs": [
    {
     "data": {
      "text/plain": [
       "array([[[ 1.08963894e+00, -4.48860858e-02],\n",
       "        [-4.48860858e-02,  9.50185182e-01]],\n",
       "\n",
       "       [[ 9.82647261e-01,  8.50747454e-02],\n",
       "        [ 8.50747454e-02,  1.03246534e+00]],\n",
       "\n",
       "       [[ 9.73344107e-01, -3.38743790e-05],\n",
       "        [-3.38743790e-05,  1.03242719e+00]]])"
      ]
     },
     "execution_count": 172,
     "metadata": {},
     "output_type": "execute_result"
    }
   ],
   "source": [
    "m2.covariances_"
   ]
  },
  {
   "cell_type": "code",
   "execution_count": 173,
   "metadata": {},
   "outputs": [
    {
     "data": {
      "text/plain": [
       "array([[-0.04990813, -0.03112461],\n",
       "       [10.08036795,  9.98297713],\n",
       "       [10.02663905, -0.91012145]])"
      ]
     },
     "execution_count": 173,
     "metadata": {},
     "output_type": "execute_result"
    }
   ],
   "source": [
    "m2.means_"
   ]
  },
  {
   "cell_type": "code",
   "execution_count": 174,
   "metadata": {},
   "outputs": [
    {
     "data": {
      "text/plain": [
       "<matplotlib.axes._subplots.AxesSubplot at 0x2850a7c6448>"
      ]
     },
     "execution_count": 174,
     "metadata": {},
     "output_type": "execute_result"
    },
    {
     "data": {
      "image/png": "[encoded data removed]",
      "text/plain": [
       "<Figure size 432x288 with 2 Axes>"
      ]
     },
     "metadata": {},
     "output_type": "display_data"
    }
   ],
   "source": [
    "sns.heatmap(z, cmap='Reds')"
   ]
  },
  {
   "cell_type": "code",
   "execution_count": 146,
   "metadata": {},
   "outputs": [
    {
     "data": {
      "text/plain": [
       "array([[4.61208691e-06, 4.22125386e-06, 3.86356210e-06, ...,\n",
       "        2.35830851e-64, 2.17800188e-64, 2.01149210e-64],\n",
       "       [1.61408443e-05, 1.47702181e-05, 1.35160555e-05, ...,\n",
       "        6.06561242e-64, 5.60078021e-64, 5.17159915e-64],\n",
       "       [5.64493053e-05, 5.16460359e-05, 4.72517239e-05, ...,\n",
       "        1.55906700e-63, 1.43931183e-63, 1.32876281e-63],\n",
       "       ...,\n",
       "       [1.00000000e+00, 1.00000000e+00, 1.00000000e+00, ...,\n",
       "        2.03192502e-03, 1.82098876e-03, 1.63192340e-03],\n",
       "       [1.00000000e+00, 1.00000000e+00, 1.00000000e+00, ...,\n",
       "        4.70373293e-03, 4.21579570e-03, 3.77830327e-03],\n",
       "       [1.00000000e+00, 1.00000000e+00, 1.00000000e+00, ...,\n",
       "        1.08435281e-02, 9.72305114e-03, 8.71738303e-03]])"
      ]
     },
     "execution_count": 146,
     "metadata": {},
     "output_type": "execute_result"
    }
   ],
   "source": [
    "z"
   ]
  },
  {
   "cell_type": "code",
   "execution_count": 88,
   "metadata": {},
   "outputs": [
    {
     "data": {
      "text/plain": [
       "array([[-3,  0,  3,  6,  9, 12],\n",
       "       [-3,  0,  3,  6,  9, 12],\n",
       "       [-3,  0,  3,  6,  9, 12],\n",
       "       [-3,  0,  3,  6,  9, 12],\n",
       "       [-3,  0,  3,  6,  9, 12],\n",
       "       [-3,  0,  3,  6,  9, 12]])"
      ]
     },
     "execution_count": 88,
     "metadata": {},
     "output_type": "execute_result"
    }
   ],
   "source": [
    "X"
   ]
  },
  {
   "cell_type": "code",
   "execution_count": 89,
   "metadata": {},
   "outputs": [
    {
     "data": {
      "text/plain": [
       "array([[-3, -3, -3, -3, -3, -3],\n",
       "       [ 0,  0,  0,  0,  0,  0],\n",
       "       [ 3,  3,  3,  3,  3,  3],\n",
       "       [ 6,  6,  6,  6,  6,  6],\n",
       "       [ 9,  9,  9,  9,  9,  9],\n",
       "       [12, 12, 12, 12, 12, 12]])"
      ]
     },
     "execution_count": 89,
     "metadata": {},
     "output_type": "execute_result"
    }
   ],
   "source": [
    "Y"
   ]
  },
  {
   "cell_type": "code",
   "execution_count": 90,
   "metadata": {},
   "outputs": [
    {
     "data": {
      "text/plain": [
       "array([-3,  0,  3,  6,  9, 12])"
      ]
     },
     "execution_count": 90,
     "metadata": {},
     "output_type": "execute_result"
    }
   ],
   "source": [
    "x"
   ]
  },
  {
   "cell_type": "code",
   "execution_count": 91,
   "metadata": {},
   "outputs": [
    {
     "data": {
      "text/plain": [
       "array([-3,  0,  3,  6,  9, 12])"
      ]
     },
     "execution_count": 91,
     "metadata": {},
     "output_type": "execute_result"
    }
   ],
   "source": [
    "y"
   ]
  },
  {
   "cell_type": "code",
   "execution_count": 86,
   "metadata": {},
   "outputs": [],
   "source": [
    "import matplotlib.pyplot as plt\n",
    "import seaborn as sns; \n",
    "sns.set()\n",
    "tips = sns.load_dataset(\"tips\")"
   ]
  },
  {
   "cell_type": "code",
   "execution_count": 46,
   "metadata": {},
   "outputs": [
    {
     "data": {
      "text/plain": [
       "(244, 7)"
      ]
     },
     "execution_count": 46,
     "metadata": {},
     "output_type": "execute_result"
    }
   ],
   "source": [
    "tips.shape"
   ]
  },
  {
   "cell_type": "code",
   "execution_count": null,
   "metadata": {},
   "outputs": [],
   "source": []
  },
  {
   "cell_type": "code",
   "execution_count": null,
   "metadata": {},
   "outputs": [],
   "source": []
  },
  {
   "cell_type": "code",
   "execution_count": null,
   "metadata": {},
   "outputs": [],
   "source": []
  },
  {
   "cell_type": "code",
   "execution_count": 43,
   "metadata": {},
   "outputs": [
    {
     "data": {
      "text/plain": [
       "(array([[ 0.07953177,  0.06068387],\n",
       "        [-0.95805418,  1.20743989],\n",
       "        [10.94558719, 10.37174951],\n",
       "        ...,\n",
       "        [10.76441849, 11.26341004],\n",
       "        [-0.57840619,  0.04293677],\n",
       "        [11.01267053,  9.553757  ]]),\n",
       " array([0, 0, 1, 1, 0, 1, 1, 1, 1, 0, 1, 0, 0, 1, 0, 0, 0, 0, 0, 0, 0, 1,\n",
       "        0, 0, 1, 0, 0, 0, 1, 0, 1, 1, 1, 1, 0, 1, 1, 0, 1, 0, 0, 1, 1, 0,\n",
       "        0, 1, 0, 0, 1, 0, 1, 1, 0, 0, 1, 0, 0, 1, 0, 0, 0, 0, 1, 1, 1, 1,\n",
       "        0, 0, 1, 1, 0, 0, 1, 1, 0, 1, 0, 0, 1, 1, 1, 1, 1, 1, 0, 1, 1, 0,\n",
       "        1, 1, 0, 0, 1, 1, 1, 0, 0, 1, 0, 0, 1, 1, 0, 1, 0, 1, 1, 0, 0, 1,\n",
       "        0, 0, 0, 0, 1, 0, 1, 1, 0, 1, 0, 0, 1, 1, 0, 0, 1, 0, 1, 1, 0, 1,\n",
       "        0, 1, 0, 1, 1, 1, 0, 0, 1, 1, 0, 1, 1, 1, 0, 0, 1, 1, 0, 1, 0, 1,\n",
       "        1, 1, 1, 0, 1, 1, 1, 1, 1, 0, 1, 0, 1, 1, 0, 1, 0, 0, 0, 1, 1, 0,\n",
       "        1, 1, 0, 0, 0, 1, 1, 0, 0, 1, 0, 1, 0, 1, 0, 1, 0, 0, 1, 1, 1, 0,\n",
       "        1, 0, 1, 1, 1, 0, 0, 0, 0, 1, 0, 1, 1, 0, 1, 1, 1, 0, 0, 1, 0, 0,\n",
       "        0, 0, 0, 0, 0, 1, 1, 1, 1, 0, 1, 1, 0, 1, 0, 1, 0, 0, 0, 1, 0, 0,\n",
       "        0, 0, 1, 0, 0, 1, 0, 0, 1, 0, 0, 1, 0, 0, 0, 0, 1, 1, 1, 0, 0, 0,\n",
       "        1, 0, 0, 0, 1, 1, 0, 0, 1, 0, 1, 1, 0, 1, 1, 1, 1, 1, 0, 0, 1, 1,\n",
       "        0, 0, 0, 1, 0, 0, 0, 1, 1, 0, 1, 0, 0, 1, 0, 0, 0, 0, 0, 1, 0, 1,\n",
       "        1, 0, 0, 1, 1, 0, 0, 0, 0, 0, 0, 0, 0, 1, 0, 1, 1, 0, 0, 0, 1, 1,\n",
       "        0, 0, 1, 1, 1, 0, 0, 0, 1, 0, 1, 0, 1, 0, 1, 1, 1, 0, 1, 1, 1, 0,\n",
       "        0, 0, 1, 0, 1, 1, 0, 1, 1, 0, 0, 1, 1, 0, 0, 1, 0, 0, 1, 0, 1, 0,\n",
       "        0, 0, 0, 1, 1, 0, 1, 1, 1, 1, 0, 1, 1, 0, 1, 0, 0, 0, 1, 1, 1, 1,\n",
       "        1, 1, 1, 0, 0, 0, 0, 0, 1, 0, 0, 1, 0, 0, 0, 1, 0, 1, 0, 1, 1, 1,\n",
       "        1, 1, 0, 0, 0, 0, 0, 1, 0, 1, 1, 0, 0, 0, 0, 1, 0, 1, 0, 0, 1, 0,\n",
       "        1, 0, 1, 0, 1, 0, 1, 0, 0, 1, 1, 1, 0, 0, 1, 0, 1, 0, 1, 0, 0, 0,\n",
       "        1, 1, 0, 1, 1, 1, 0, 0, 1, 0, 0, 0, 0, 1, 0, 1, 0, 0, 1, 0, 0, 1,\n",
       "        1, 1, 0, 1, 1, 1, 1, 1, 1, 0, 1, 0, 0, 0, 0, 0, 0, 1, 1, 0, 1, 1,\n",
       "        1, 0, 0, 0, 0, 1, 1, 0, 1, 1, 0, 1, 0, 1, 0, 1, 1, 1, 0, 1, 0, 1,\n",
       "        0, 0, 0, 0, 0, 0, 1, 0, 0, 0, 1, 0, 1, 0, 0, 1, 1, 0, 1, 1, 0, 0,\n",
       "        0, 0, 1, 0, 0, 0, 1, 1, 1, 0, 1, 1, 0, 1, 1, 0, 0, 1, 1, 0, 0, 0,\n",
       "        0, 1, 0, 0, 0, 0, 1, 1, 1, 1, 0, 1, 0, 0, 1, 1, 0, 0, 0, 0, 0, 1,\n",
       "        1, 1, 0, 0, 0, 1, 1, 1, 0, 1, 1, 0, 0, 1, 0, 1, 1, 1, 0, 1, 0, 0,\n",
       "        1, 1, 1, 1, 0, 1, 0, 0, 1, 0, 1, 0, 1, 0, 0, 1, 0, 0, 1, 0, 1, 0,\n",
       "        0, 1, 0, 1, 0, 1, 1, 0, 0, 0, 1, 1, 1, 1, 0, 1, 0, 1, 1, 1, 1, 1,\n",
       "        1, 1, 0, 0, 0, 0, 0, 0, 1, 0, 0, 1, 1, 0, 1, 1, 0, 0, 0, 0, 1, 1,\n",
       "        1, 0, 1, 1, 1, 1, 0, 1, 1, 0, 0, 0, 1, 1, 0, 1, 0, 1, 0, 0, 0, 1,\n",
       "        0, 1, 1, 0, 0, 1, 1, 1, 1, 1, 1, 0, 1, 1, 0, 1, 0, 0, 1, 0, 0, 0,\n",
       "        1, 1, 1, 1, 1, 0, 0, 1, 1, 0, 0, 0, 0, 0, 0, 1, 1, 1, 0, 1, 1, 1,\n",
       "        1, 0, 0, 1, 1, 1, 1, 0, 1, 0, 1, 0, 1, 1, 0, 1, 0, 0, 1, 1, 0, 1,\n",
       "        1, 0, 0, 1, 0, 0, 0, 1, 1, 0, 0, 0, 1, 0, 1, 0, 1, 1, 0, 0, 0, 0,\n",
       "        1, 1, 1, 1, 0, 1, 1, 0, 1, 1, 1, 0, 1, 1, 1, 0, 0, 1, 0, 1, 0, 0,\n",
       "        1, 1, 0, 0, 1, 1, 1, 1, 1, 1, 0, 0, 1, 1, 1, 0, 0, 0, 1, 1, 1, 0,\n",
       "        1, 0, 0, 0, 1, 1, 1, 1, 1, 1, 0, 1, 0, 1, 1, 1, 1, 0, 0, 1, 1, 1,\n",
       "        0, 0, 1, 1, 0, 0, 1, 1, 0, 1, 0, 1, 1, 0, 0, 0, 1, 1, 0, 1, 1, 0,\n",
       "        1, 0, 0, 0, 0, 1, 1, 1, 0, 1, 0, 0, 1, 1, 1, 1, 0, 0, 1, 0, 1, 1,\n",
       "        0, 1, 0, 0, 1, 0, 1, 1, 0, 1, 1, 0, 1, 1, 1, 1, 0, 1, 1, 1, 0, 0,\n",
       "        0, 1, 0, 0, 1, 1, 1, 1, 0, 0, 1, 1, 0, 1, 1, 1, 1, 1, 1, 0, 0, 0,\n",
       "        0, 0, 0, 1, 0, 1, 0, 0, 1, 0, 0, 0, 1, 1, 1, 0, 1, 0, 1, 1, 0, 0,\n",
       "        0, 1, 1, 0, 1, 0, 0, 0, 0, 1, 0, 0, 0, 0, 0, 1, 0, 0, 0, 0, 1, 1,\n",
       "        1, 0, 0, 0, 1, 1, 1, 1, 0, 1]),\n",
       " array([[ 7.5785465 , -5.26708092],\n",
       "        [ 4.57260405, -5.28758181],\n",
       "        [ 4.53349036, -7.0202712 ],\n",
       "        ...,\n",
       "        [ 5.70889851, -4.66378748],\n",
       "        [ 6.29426728, -6.04396852],\n",
       "        [ 6.25618468, -4.497001  ]]),\n",
       " array([0, 0, 0, 0, 0, 0, 0, 0, 0, 0, 0, 0, 0, 0, 0, 0, 0, 0, 0, 0, 0, 0,\n",
       "        0, 0, 0, 0, 0, 0, 0, 0, 0, 0, 0, 0, 0, 0, 0, 0, 0, 0, 0, 0, 0, 0,\n",
       "        0, 0, 0, 0, 0, 0, 0, 0, 0, 0, 0, 0, 0, 0, 0, 0, 0, 0, 0, 0, 0, 0,\n",
       "        0, 0, 0, 0, 0, 0, 0, 0, 0, 0, 0, 0, 0, 0, 0, 0, 0, 0, 0, 0, 0, 0,\n",
       "        0, 0, 0, 0, 0, 0, 0, 0, 0, 0, 0, 0, 0, 0, 0, 0, 0, 0, 0, 0, 0, 0,\n",
       "        0, 0, 0, 0, 0, 0, 0, 0, 0, 0, 0, 0, 0, 0, 0, 0, 0, 0, 0, 0, 0, 0,\n",
       "        0, 0, 0, 0, 0, 0, 0, 0, 0, 0, 0, 0, 0, 0, 0, 0, 0, 0, 0, 0, 0, 0,\n",
       "        0, 0, 0, 0, 0, 0, 0, 0, 0, 0, 0, 0, 0, 0, 0, 0, 0, 0, 0, 0, 0, 0,\n",
       "        0, 0, 0, 0, 0, 0, 0, 0, 0, 0, 0, 0, 0, 0, 0, 0, 0, 0, 0, 0, 0, 0,\n",
       "        0, 0, 0, 0, 0, 0, 0, 0, 0, 0, 0, 0, 0, 0, 0, 0, 0, 0, 0, 0, 0, 0,\n",
       "        0, 0, 0, 0, 0, 0, 0, 0, 0, 0, 0, 0, 0, 0, 0, 0, 0, 0, 0, 0, 0, 0,\n",
       "        0, 0, 0, 0, 0, 0, 0, 0, 0, 0, 0, 0, 0, 0, 0, 0, 0, 0, 0, 0, 0, 0,\n",
       "        0, 0, 0, 0, 0, 0, 0, 0, 0, 0, 0, 0, 0, 0, 0, 0, 0, 0, 0, 0, 0, 0,\n",
       "        0, 0, 0, 0, 0, 0, 0, 0, 0, 0, 0, 0, 0, 0, 0, 0, 0, 0, 0, 0, 0, 0,\n",
       "        0, 0, 0, 0, 0, 0, 0, 0, 0, 0, 0, 0, 0, 0, 0, 0, 0, 0, 0, 0, 0, 0,\n",
       "        0, 0, 0, 0, 0, 0, 0, 0, 0, 0, 0, 0, 0, 0, 0, 0, 0, 0, 0, 0, 0, 0,\n",
       "        0, 0, 0, 0, 0, 0, 0, 0, 0, 0, 0, 0, 0, 0, 0, 0, 0, 0, 0, 0, 0, 0,\n",
       "        0, 0, 0, 0, 0, 0, 0, 0, 0, 0, 0, 0, 0, 0, 0, 0, 0, 0, 0, 0, 0, 0,\n",
       "        0, 0, 0, 0, 0, 0, 0, 0, 0, 0, 0, 0, 0, 0, 0, 0, 0, 0, 0, 0, 0, 0,\n",
       "        0, 0, 0, 0, 0, 0, 0, 0, 0, 0, 0, 0, 0, 0, 0, 0, 0, 0, 0, 0, 0, 0,\n",
       "        0, 0, 0, 0, 0, 0, 0, 0, 0, 0, 0, 0, 0, 0, 0, 0, 0, 0, 0, 0, 0, 0,\n",
       "        0, 0, 0, 0, 0, 0, 0, 0, 0, 0, 0, 0, 0, 0, 0, 0, 0, 0, 0, 0, 0, 0,\n",
       "        0, 0, 0, 0, 0, 0, 0, 0, 0, 0, 0, 0, 0, 0, 0, 0, 0, 0, 0, 0, 0, 0,\n",
       "        0, 0, 0, 0, 0, 0, 0, 0, 0, 0, 0, 0, 0, 0, 0, 0, 0, 0, 0, 0, 0, 0,\n",
       "        0, 0, 0, 0, 0, 0, 0, 0, 0, 0, 0, 0, 0, 0, 0, 0, 0, 0, 0, 0, 0, 0,\n",
       "        0, 0, 0, 0, 0, 0, 0, 0, 0, 0, 0, 0, 0, 0, 0, 0, 0, 0, 0, 0, 0, 0,\n",
       "        0, 0, 0, 0, 0, 0, 0, 0, 0, 0, 0, 0, 0, 0, 0, 0, 0, 0, 0, 0, 0, 0,\n",
       "        0, 0, 0, 0, 0, 0, 0, 0, 0, 0, 0, 0, 0, 0, 0, 0, 0, 0, 0, 0, 0, 0,\n",
       "        0, 0, 0, 0, 0, 0, 0, 0, 0, 0, 0, 0, 0, 0, 0, 0, 0, 0, 0, 0, 0, 0,\n",
       "        0, 0, 0, 0, 0, 0, 0, 0, 0, 0, 0, 0, 0, 0, 0, 0, 0, 0, 0, 0, 0, 0,\n",
       "        0, 0, 0, 0, 0, 0, 0, 0, 0, 0, 0, 0, 0, 0, 0, 0, 0, 0, 0, 0, 0, 0,\n",
       "        0, 0, 0, 0, 0, 0, 0, 0, 0, 0, 0, 0, 0, 0, 0, 0, 0, 0, 0, 0, 0, 0,\n",
       "        0, 0, 0, 0, 0, 0, 0, 0, 0, 0, 0, 0, 0, 0, 0, 0, 0, 0, 0, 0, 0, 0,\n",
       "        0, 0, 0, 0, 0, 0, 0, 0, 0, 0, 0, 0, 0, 0, 0, 0, 0, 0, 0, 0, 0, 0,\n",
       "        0, 0, 0, 0, 0, 0, 0, 0, 0, 0, 0, 0, 0, 0, 0, 0, 0, 0, 0, 0, 0, 0,\n",
       "        0, 0, 0, 0, 0, 0, 0, 0, 0, 0, 0, 0, 0, 0, 0, 0, 0, 0, 0, 0, 0, 0,\n",
       "        0, 0, 0, 0, 0, 0, 0, 0, 0, 0, 0, 0, 0, 0, 0, 0, 0, 0, 0, 0, 0, 0,\n",
       "        0, 0, 0, 0, 0, 0, 0, 0, 0, 0, 0, 0, 0, 0, 0, 0, 0, 0, 0, 0, 0, 0,\n",
       "        0, 0, 0, 0, 0, 0, 0, 0, 0, 0, 0, 0, 0, 0, 0, 0, 0, 0, 0, 0, 0, 0,\n",
       "        0, 0, 0, 0, 0, 0, 0, 0, 0, 0, 0, 0, 0, 0, 0, 0, 0, 0, 0, 0, 0, 0,\n",
       "        0, 0, 0, 0, 0, 0, 0, 0, 0, 0, 0, 0, 0, 0, 0, 0, 0, 0, 0, 0, 0, 0,\n",
       "        0, 0, 0, 0, 0, 0, 0, 0, 0, 0, 0, 0, 0, 0, 0, 0, 0, 0, 0, 0, 0, 0,\n",
       "        0, 0, 0, 0, 0, 0, 0, 0, 0, 0, 0, 0, 0, 0, 0, 0, 0, 0, 0, 0, 0, 0,\n",
       "        0, 0, 0, 0, 0, 0, 0, 0, 0, 0, 0, 0, 0, 0, 0, 0, 0, 0, 0, 0, 0, 0,\n",
       "        0, 0, 0, 0, 0, 0, 0, 0, 0, 0, 0, 0, 0, 0, 0, 0, 0, 0, 0, 0, 0, 0,\n",
       "        0, 0, 0, 0, 0, 0, 0, 0, 0, 0]))"
      ]
     },
     "execution_count": 43,
     "metadata": {},
     "output_type": "execute_result"
    }
   ],
   "source": [
    "data"
   ]
  },
  {
   "cell_type": "code",
   "execution_count": null,
   "metadata": {},
   "outputs": [],
   "source": []
  },
  {
   "cell_type": "code",
   "execution_count": null,
   "metadata": {},
   "outputs": [],
   "source": []
  },
  {
   "cell_type": "code",
   "execution_count": null,
   "metadata": {},
   "outputs": [],
   "source": []
  },
  {
   "cell_type": "code",
   "execution_count": null,
   "metadata": {},
   "outputs": [],
   "source": []
  }
 ],
 "metadata": {
  "kernelspec": {
   "display_name": "Python 3",
   "language": "python",
   "name": "python3"
  },
  "language_info": {
   "codemirror_mode": {
    "name": "ipython",
    "version": 3
   },
   "file_extension": ".py",
   "mimetype": "text/x-python",
   "name": "python",
   "nbconvert_exporter": "python",
   "pygments_lexer": "ipython3",
   "version": "3.7.5"
  }
 },
 "nbformat": 4,
 "nbformat_minor": 4
}
